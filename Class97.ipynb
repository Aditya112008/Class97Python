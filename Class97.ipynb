{
  "nbformat": 4,
  "nbformat_minor": 0,
  "metadata": {
    "colab": {
      "name": "Class97.ipynb",
      "provenance": [],
      "collapsed_sections": [],
      "authorship_tag": "ABX9TyMwbPl2DM3E0g3CwoUEEjRe",
      "include_colab_link": true
    },
    "kernelspec": {
      "name": "python3",
      "display_name": "Python 3"
    },
    "language_info": {
      "name": "python"
    }
  },
  "cells": [
    {
      "cell_type": "markdown",
      "metadata": {
        "id": "view-in-github",
        "colab_type": "text"
      },
      "source": [
        "<a href=\"https://colab.research.google.com/github/Aditya112008/Class97Python/blob/main/Class97.ipynb\" target=\"_parent\"><img src=\"https://colab.research.google.com/assets/colab-badge.svg\" alt=\"Open In Colab\"/></a>"
      ]
    },
    {
      "cell_type": "code",
      "metadata": {
        "id": "LmxiAwf4T6pB"
      },
      "source": [
        ""
      ],
      "execution_count": null,
      "outputs": []
    },
    {
      "cell_type": "code",
      "metadata": {
        "colab": {
          "base_uri": "https://localhost:8080/"
        },
        "id": "HeiYlrnQUJCW",
        "outputId": "7808415f-16bc-4cb6-842a-2a79c9c5fd97"
      },
      "source": [
        "print (\"hello, python\")"
      ],
      "execution_count": 1,
      "outputs": [
        {
          "output_type": "stream",
          "text": [
            "hello, python\n"
          ],
          "name": "stdout"
        }
      ]
    },
    {
      "cell_type": "code",
      "metadata": {
        "colab": {
          "base_uri": "https://localhost:8080/"
        },
        "id": "TC3jcN5DUU2D",
        "outputId": "4dfb3751-13f3-458a-b5bb-12eb2d2ec4d6"
      },
      "source": [
        "myName = \"Aditya\"\n",
        "print (myName)"
      ],
      "execution_count": 2,
      "outputs": [
        {
          "output_type": "stream",
          "text": [
            "Aditya\n"
          ],
          "name": "stdout"
        }
      ]
    },
    {
      "cell_type": "code",
      "metadata": {
        "colab": {
          "base_uri": "https://localhost:8080/"
        },
        "id": "plv09vusUZsE",
        "outputId": "edf4bafa-10e3-48c7-9091-a0adf2eeccab"
      },
      "source": [
        "myGrade = 8\n",
        "print (myGrade)"
      ],
      "execution_count": 3,
      "outputs": [
        {
          "output_type": "stream",
          "text": [
            "8\n"
          ],
          "name": "stdout"
        }
      ]
    },
    {
      "cell_type": "code",
      "metadata": {
        "colab": {
          "base_uri": "https://localhost:8080/"
        },
        "id": "k-w5DT6CUqmQ",
        "outputId": "d1698b82-04de-426e-805d-e8f3712b69cf"
      },
      "source": [
        "myFriendList=[\"Aryaman\",\"Soham\",\"Arush\"]\n",
        "print(myFriendList)\n"
      ],
      "execution_count": 4,
      "outputs": [
        {
          "output_type": "stream",
          "text": [
            "['Aryaman', 'Soham', 'Arush']\n"
          ],
          "name": "stdout"
        }
      ]
    },
    {
      "cell_type": "code",
      "metadata": {
        "colab": {
          "base_uri": "https://localhost:8080/"
        },
        "id": "-l54c1LoVDWv",
        "outputId": "38223b83-9fba-4cc8-8885-b43eead328db"
      },
      "source": [
        "print (myFriendList[2])"
      ],
      "execution_count": 5,
      "outputs": [
        {
          "output_type": "stream",
          "text": [
            "Arush\n"
          ],
          "name": "stdout"
        }
      ]
    },
    {
      "cell_type": "code",
      "metadata": {
        "colab": {
          "base_uri": "https://localhost:8080/"
        },
        "id": "Xe3LXBXbVPYi",
        "outputId": "b4e6b38c-7d58-46d9-a94a-8e181f1cffcb"
      },
      "source": [
        "print (type(myFriendList))"
      ],
      "execution_count": 6,
      "outputs": [
        {
          "output_type": "stream",
          "text": [
            "<class 'list'>\n"
          ],
          "name": "stdout"
        }
      ]
    },
    {
      "cell_type": "code",
      "metadata": {
        "colab": {
          "base_uri": "https://localhost:8080/"
        },
        "id": "cw4rCkrAVa1w",
        "outputId": "ae09e330-bdb5-410a-b5b6-38d9167afa69"
      },
      "source": [
        "print (type(myGrade))"
      ],
      "execution_count": 7,
      "outputs": [
        {
          "output_type": "stream",
          "text": [
            "<class 'int'>\n"
          ],
          "name": "stdout"
        }
      ]
    },
    {
      "cell_type": "code",
      "metadata": {
        "colab": {
          "base_uri": "https://localhost:8080/"
        },
        "id": "Tf3Si80pVkCb",
        "outputId": "4cae0ff9-c677-43fd-8187-e50f35b2891a"
      },
      "source": [
        "weight = 4.5\n",
        "print(type(weight))"
      ],
      "execution_count": 8,
      "outputs": [
        {
          "output_type": "stream",
          "text": [
            "<class 'float'>\n"
          ],
          "name": "stdout"
        }
      ]
    },
    {
      "cell_type": "code",
      "metadata": {
        "colab": {
          "base_uri": "https://localhost:8080/"
        },
        "id": "AY8pLLFTV2gt",
        "outputId": "96700f8b-e857-4c24-972b-667edf954fe6"
      },
      "source": [
        "print(type(myName))"
      ],
      "execution_count": 9,
      "outputs": [
        {
          "output_type": "stream",
          "text": [
            "<class 'str'>\n"
          ],
          "name": "stdout"
        }
      ]
    },
    {
      "cell_type": "code",
      "metadata": {
        "colab": {
          "base_uri": "https://localhost:8080/"
        },
        "id": "u-svNQuHWCG5",
        "outputId": "e50f3aa4-819f-42db-df16-5d56ba64b181"
      },
      "source": [
        "len(myName)"
      ],
      "execution_count": 10,
      "outputs": [
        {
          "output_type": "execute_result",
          "data": {
            "text/plain": [
              "6"
            ]
          },
          "metadata": {
            "tags": []
          },
          "execution_count": 10
        }
      ]
    },
    {
      "cell_type": "code",
      "metadata": {
        "colab": {
          "base_uri": "https://localhost:8080/"
        },
        "id": "KOOjwWzKWKUN",
        "outputId": "931612cf-7224-4a30-a30f-391b3791a645"
      },
      "source": [
        "a = \"I Love \"\n",
        "b = \"coding\"\n",
        "print(a + b)"
      ],
      "execution_count": 12,
      "outputs": [
        {
          "output_type": "stream",
          "text": [
            "I Love coding\n"
          ],
          "name": "stdout"
        }
      ]
    },
    {
      "cell_type": "code",
      "metadata": {
        "colab": {
          "base_uri": "https://localhost:8080/",
          "height": 35
        },
        "id": "MsWQ50W5WfGK",
        "outputId": "bd7bb656-c95d-4779-c038-f13d5e499c48"
      },
      "source": [
        "s = \"hello world\"\n",
        "s[0]\n",
        "# s[0] is same as print(s[0]) "
      ],
      "execution_count": 13,
      "outputs": [
        {
          "output_type": "execute_result",
          "data": {
            "application/vnd.google.colaboratory.intrinsic+json": {
              "type": "string"
            },
            "text/plain": [
              "'h'"
            ]
          },
          "metadata": {
            "tags": []
          },
          "execution_count": 13
        }
      ]
    },
    {
      "cell_type": "code",
      "metadata": {
        "colab": {
          "base_uri": "https://localhost:8080/"
        },
        "id": "lD9OWNIbW8D1",
        "outputId": "a92790ff-6b73-434d-dfc3-eb8973092df6"
      },
      "source": [
        "print (s[-1])"
      ],
      "execution_count": 14,
      "outputs": [
        {
          "output_type": "stream",
          "text": [
            "d\n"
          ],
          "name": "stdout"
        }
      ]
    },
    {
      "cell_type": "code",
      "metadata": {
        "colab": {
          "base_uri": "https://localhost:8080/"
        },
        "id": "2OcD8eaQXIkH",
        "outputId": "4974d645-a56a-48c9-edfd-c3c3e6d2146b"
      },
      "source": [
        "print (s[-4])"
      ],
      "execution_count": 15,
      "outputs": [
        {
          "output_type": "stream",
          "text": [
            "o\n"
          ],
          "name": "stdout"
        }
      ]
    },
    {
      "cell_type": "code",
      "metadata": {
        "colab": {
          "base_uri": "https://localhost:8080/",
          "height": 35
        },
        "id": "YzlC16xzXRpi",
        "outputId": "747cc8f3-501c-48d8-fbdb-e96ff45b8cdc"
      },
      "source": [
        "p = \"Pune\"\n",
        "p.upper()\n"
      ],
      "execution_count": 16,
      "outputs": [
        {
          "output_type": "execute_result",
          "data": {
            "application/vnd.google.colaboratory.intrinsic+json": {
              "type": "string"
            },
            "text/plain": [
              "'PUNE'"
            ]
          },
          "metadata": {
            "tags": []
          },
          "execution_count": 16
        }
      ]
    },
    {
      "cell_type": "code",
      "metadata": {
        "colab": {
          "base_uri": "https://localhost:8080/",
          "height": 35
        },
        "id": "zxHokagsXcmL",
        "outputId": "2fdd7f7b-f758-4475-9351-acef9bdce9c9"
      },
      "source": [
        "p.lower()"
      ],
      "execution_count": 18,
      "outputs": [
        {
          "output_type": "execute_result",
          "data": {
            "application/vnd.google.colaboratory.intrinsic+json": {
              "type": "string"
            },
            "text/plain": [
              "'pune'"
            ]
          },
          "metadata": {
            "tags": []
          },
          "execution_count": 18
        }
      ]
    },
    {
      "cell_type": "code",
      "metadata": {
        "colab": {
          "base_uri": "https://localhost:8080/",
          "height": 52
        },
        "id": "HQACFrWHXk7s",
        "outputId": "91836c82-a5d9-4519-b269-2fb0f78bdbd5"
      },
      "source": [
        "name = input(\"what is your name ?\")\n",
        "name"
      ],
      "execution_count": 19,
      "outputs": [
        {
          "output_type": "stream",
          "text": [
            "what is your name ?Aditya\n"
          ],
          "name": "stdout"
        },
        {
          "output_type": "execute_result",
          "data": {
            "application/vnd.google.colaboratory.intrinsic+json": {
              "type": "string"
            },
            "text/plain": [
              "'Aditya'"
            ]
          },
          "metadata": {
            "tags": []
          },
          "execution_count": 19
        }
      ]
    },
    {
      "cell_type": "code",
      "metadata": {
        "colab": {
          "base_uri": "https://localhost:8080/"
        },
        "id": "Cdt-P3toX1C4",
        "outputId": "a32228d4-7c86-42df-d23c-741117894690"
      },
      "source": [
        "greeting = \"hello \"\n",
        "print (greeting + name)"
      ],
      "execution_count": 21,
      "outputs": [
        {
          "output_type": "stream",
          "text": [
            "hello Aditya\n"
          ],
          "name": "stdout"
        }
      ]
    },
    {
      "cell_type": "code",
      "metadata": {
        "colab": {
          "base_uri": "https://localhost:8080/"
        },
        "id": "aAngn59gYDOZ",
        "outputId": "3f8b12b7-4968-410b-a52d-b62fed1d6e5f"
      },
      "source": [
        "xyz = \"vanila\"\n",
        "pqr = xyz in [\"vanila\",\"chocolate\"]\n",
        "print (pqr)"
      ],
      "execution_count": 22,
      "outputs": [
        {
          "output_type": "stream",
          "text": [
            "True\n"
          ],
          "name": "stdout"
        }
      ]
    },
    {
      "cell_type": "code",
      "metadata": {
        "colab": {
          "base_uri": "https://localhost:8080/"
        },
        "id": "RcM_9LYuYmUM",
        "outputId": "8bf062b8-6084-4651-81bd-09e516f7e8c4"
      },
      "source": [
        "abc = \"football\"\n",
        "abcd =  abc not in [\"football\",\"chess\"]\n",
        "print (abcd)"
      ],
      "execution_count": 31,
      "outputs": [
        {
          "output_type": "stream",
          "text": [
            "False\n"
          ],
          "name": "stdout"
        }
      ]
    },
    {
      "cell_type": "code",
      "metadata": {
        "colab": {
          "base_uri": "https://localhost:8080/"
        },
        "id": "DUUDnoVTZus_",
        "outputId": "7ba16bd2-a9dc-4f88-d25e-9a62ba113f73"
      },
      "source": [
        "x1 = 614\n",
        "y1 = 362\n",
        "print(id(x1),id(y1))"
      ],
      "execution_count": 32,
      "outputs": [
        {
          "output_type": "stream",
          "text": [
            "139957579687088 139957579688912\n"
          ],
          "name": "stdout"
        }
      ]
    },
    {
      "cell_type": "code",
      "metadata": {
        "colab": {
          "base_uri": "https://localhost:8080/"
        },
        "id": "PDEDCZWJaDqd",
        "outputId": "ac181609-28e3-45af-b28a-2ade90200792"
      },
      "source": [
        "x1_is_y1 = id(x1) is id(y1)\n",
        "print (x1_is_y1)"
      ],
      "execution_count": 35,
      "outputs": [
        {
          "output_type": "stream",
          "text": [
            "False\n"
          ],
          "name": "stdout"
        }
      ]
    },
    {
      "cell_type": "code",
      "metadata": {
        "colab": {
          "base_uri": "https://localhost:8080/"
        },
        "id": "-R31xbPFadHu",
        "outputId": "62ab2940-9c00-4e91-9eb4-637842ecdeaf"
      },
      "source": [
        "introduction = input(\"introduce yourself\")"
      ],
      "execution_count": 37,
      "outputs": [
        {
          "output_type": "stream",
          "text": [
            "introduce yourselfMy Name Is Aditya\n"
          ],
          "name": "stdout"
        }
      ]
    },
    {
      "cell_type": "code",
      "metadata": {
        "colab": {
          "base_uri": "https://localhost:8080/"
        },
        "id": "Zzl_H7oVau-7",
        "outputId": "b0def3cb-291c-4c0f-c906-67a70bb22094"
      },
      "source": [
        "print(introduction)"
      ],
      "execution_count": 38,
      "outputs": [
        {
          "output_type": "stream",
          "text": [
            "My Name Is Aditya\n"
          ],
          "name": "stdout"
        }
      ]
    },
    {
      "cell_type": "code",
      "metadata": {
        "colab": {
          "base_uri": "https://localhost:8080/"
        },
        "id": "QKJijQSva287",
        "outputId": "51527a19-0bfd-4721-f8ca-1394fd4a4c38"
      },
      "source": [
        "#count the number of characters and words in the variable introduction\n",
        "wordCount = 1\n",
        "characterCount = 0\n",
        "\n",
        "for i in introduction:\n",
        "  characterCount = characterCount + 1\n",
        "\n",
        "  if i== ' ':\n",
        "    wordCount = wordCount + 1\n",
        "print (wordCount)\n",
        "print (characterCount)\n"
      ],
      "execution_count": 61,
      "outputs": [
        {
          "output_type": "stream",
          "text": [
            "4\n",
            "17\n"
          ],
          "name": "stdout"
        }
      ]
    }
  ]
}